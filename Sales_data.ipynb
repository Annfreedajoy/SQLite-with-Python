{
  "nbformat": 4,
  "nbformat_minor": 0,
  "metadata": {
    "colab": {
      "name": "Sales data.ipynb",
      "provenance": []
    },
    "kernelspec": {
      "name": "python3",
      "display_name": "Python 3"
    },
    "language_info": {
      "name": "python"
    }
  },
  "cells": [
    {
      "cell_type": "code",
      "execution_count": 1,
      "metadata": {
        "colab": {
          "base_uri": "https://localhost:8080/"
        },
        "id": "4yKqpHA84ysX",
        "outputId": "f3c87d38-790f-46d3-926c-cd736d6b011b"
      },
      "outputs": [
        {
          "output_type": "stream",
          "name": "stdout",
          "text": [
            "Opened database successfully\n"
          ]
        }
      ],
      "source": [
        "import sqlite3\n",
        "\n",
        "conn = sqlite3.connect('test.db')\n",
        "\n",
        "print(\"Opened database successfully\")"
      ]
    },
    {
      "cell_type": "code",
      "source": [
        "\n",
        "\n",
        "import sqlite3\n",
        "\n",
        " \n",
        "conn = sqlite3.connect('NeDB.db')\n",
        " \n",
        "cursor = conn.cursor()\n",
        "\n",
        "\n",
        "cursor.execute(\"DROP TABLE IF EXISTS EMPLOYEE\")\n",
        "\n",
        "X= '''CREATE TABLE IF NOT EXISTS projects (\n",
        "\tid integer PRIMARY KEY,\n",
        "\tname text NOT NULL,\n",
        "\tbegin_date text,\n",
        "\tend_date text\n",
        "); '''\n",
        "conn.execute(X)\n",
        "print(\"Table created\")\n",
        " \n",
        "conn.commit()\n",
        "\n",
        " \n",
        "conn.close()"
      ],
      "metadata": {
        "colab": {
          "base_uri": "https://localhost:8080/"
        },
        "id": "oHS2IrR75CE6",
        "outputId": "75e9edce-4c4c-464b-dec2-7c1bf9362e86"
      },
      "execution_count": 2,
      "outputs": [
        {
          "output_type": "stream",
          "name": "stdout",
          "text": [
            "Table created\n"
          ]
        }
      ]
    },
    {
      "cell_type": "code",
      "source": [
        "import sqlite3\n",
        "\n",
        " \n",
        "X = sqlite3.connect('NeDB.db')\n",
        " \n",
        "Y = X.cursor()\n",
        "\n",
        " \n",
        "Y.execute('''CREATE TABLE Employee(date text, First_Name text, Last_Name text, Age real)''')\n",
        "\n",
        " \n",
        "Y.execute(\"INSERT INTO Employee VALUES ('2020-01-01','John','Adam',32)\")\n",
        " \n",
        "X.commit()\n",
        "\n",
        "Y.close()"
      ],
      "metadata": {
        "id": "cqem1tCq6i5b"
      },
      "execution_count": 3,
      "outputs": []
    },
    {
      "cell_type": "code",
      "source": [
        "import sqlite3\n",
        "\n",
        " \n",
        "X = sqlite3.connect('NeDB1.db')\n",
        " \n",
        "Y = X.cursor()\n",
        "\n",
        " \n",
        "Y.execute('''CREATE TABLE Employee(date text, First_Name text, Last_Name text, Age real)''')\n",
        "\n",
        " \n",
        "Y.execute(\"INSERT INTO Employee VALUES ('2020-01-01','John','Adam',32),('2020-01-01','Mike','Joseph',30),('2020-01-01','Ann','Maria',32);\")\n",
        "\n",
        " \n",
        "X.commit()\n",
        "\n",
        "Y.close()"
      ],
      "metadata": {
        "id": "1V22aI_r7Mn2"
      },
      "execution_count": 5,
      "outputs": []
    },
    {
      "cell_type": "code",
      "source": [
        "import sqlite3\n",
        " \n",
        "conn = sqlite3.connect('NewDB.db')\n",
        "\n",
        " \n",
        "cursor = conn.cursor()\n",
        "\n",
        " \n",
        "table =\"\"\"CREATE TABLE STUDENT(NAME VARCHAR(255), CLASS VARCHAR(255), SECTION VARCHAR(255));\"\"\"\n",
        "cursor.execute(table)\n",
        "\n",
        "students = [('John', '8', 'A'),\n",
        "   ('Adam', '8', 'B'),\n",
        "   ('Ann', '10', 'A'),\n",
        "]\n",
        "\n",
        "cursor.executemany('INSERT INTO STUDENT VALUES (?,?,?)', students)\n",
        "\n",
        "print(\"Data Inserted in the table: \")\n",
        "data=cursor.execute('''SELECT * FROM STUDENT''')\n",
        "for row in data:\n",
        "\tprint(row)\n",
        "\n",
        "\n",
        "conn.commit()\n",
        "\n",
        "conn.close()"
      ],
      "metadata": {
        "colab": {
          "base_uri": "https://localhost:8080/"
        },
        "id": "XqJYMy4g7bk4",
        "outputId": "76d49d4e-9b94-447b-eb8d-a05ce039efe3"
      },
      "execution_count": 7,
      "outputs": [
        {
          "output_type": "stream",
          "name": "stdout",
          "text": [
            "Data Inserted in the table: \n",
            "('John', '8', 'A')\n",
            "('Adam', '8', 'B')\n",
            "('Ann', '10', 'A')\n"
          ]
        }
      ]
    },
    {
      "cell_type": "code",
      "source": [
        "import sqlite3\n",
        " \n",
        "conn = sqlite3.connect('NewDB2.db')\n",
        "\n",
        " \n",
        "cursor = conn.cursor()\n",
        "\n",
        " \n",
        "table =\"\"\"CREATE TABLE STUDENT(NAME VARCHAR(255), CLASS VARCHAR(255), SECTION VARCHAR(255));\"\"\"\n",
        "cursor.execute(table)\n",
        "\n",
        "\n",
        "cursor.execute('''INSERT INTO STUDENT VALUES ('John', '8', 'A')''')\n",
        "cursor.execute('''INSERT INTO STUDENT VALUES ('Adam', '8', 'B')''')\n",
        "cursor.execute('''INSERT INTO STUDENT VALUES ('Ann', '10', 'A')''')\n",
        "\n",
        "\n",
        "print(\"Data Inserted in the table: \")\n",
        "data=cursor.execute('''SELECT * FROM STUDENT''')\n",
        "for row in data:\n",
        "\tprint(row)\n",
        "\n",
        "\n",
        "conn.commit()\n",
        "\n",
        "conn.close()"
      ],
      "metadata": {
        "colab": {
          "base_uri": "https://localhost:8080/"
        },
        "id": "4iWUs43H7ptl",
        "outputId": "7145834d-f564-4039-ed4e-ac0051b1c9ae"
      },
      "execution_count": 9,
      "outputs": [
        {
          "output_type": "stream",
          "name": "stdout",
          "text": [
            "Data Inserted in the table: \n",
            "('John', '8', 'A')\n",
            "('Adam', '8', 'B')\n",
            "('Ann', '10', 'A')\n"
          ]
        }
      ]
    },
    {
      "cell_type": "code",
      "source": [
        "import sqlite3\n",
        " \n",
        "conn = sqlite3.connect('NewDB3.db')\n",
        "\n",
        " \n",
        "cursor = conn.cursor()\n",
        "\n",
        " \n",
        "table =\"\"\"CREATE TABLE STUDENT(NAME VARCHAR(255), CLASS VARCHAR(255), SECTION VARCHAR(255));\"\"\"\n",
        "cursor.execute(table)\n",
        "\n",
        "\n",
        "cursor.execute('''INSERT INTO STUDENT VALUES ('John', '8', 'A')''')\n",
        "cursor.execute('''INSERT INTO STUDENT VALUES ('Adam', '8', 'B')''')\n",
        "cursor.execute('''INSERT INTO STUDENT VALUES ('Ann', '10', 'A')''')\n",
        "\n",
        "\n",
        "cursor.execute(\"SELECT * FROM STUDENT WHERE CLASS = '10'\")\n",
        "\n",
        "print(cursor.fetchall())\n",
        "  \n",
        "conn.commit()\n",
        "conn.close()\n",
        "\n",
        "\n",
        "conn.close()"
      ],
      "metadata": {
        "colab": {
          "base_uri": "https://localhost:8080/"
        },
        "id": "_n3q4bdV7-ZC",
        "outputId": "0a989191-d296-4a9c-c6df-0e532fe888d8"
      },
      "execution_count": 11,
      "outputs": [
        {
          "output_type": "stream",
          "name": "stdout",
          "text": [
            "[('Ann', '10', 'A')]\n"
          ]
        }
      ]
    },
    {
      "cell_type": "code",
      "source": [
        "import sqlite3\n",
        " \n",
        "conn = sqlite3.connect('NewDB5.db')\n",
        "\n",
        " \n",
        "cursor = conn.cursor()\n",
        "\n",
        " \n",
        "table =\"\"\"CREATE TABLE STUDENT(NAME VARCHAR(255), CLASS VARCHAR(255), SECTION VARCHAR(255));\"\"\"\n",
        "cursor.execute(table)\n",
        "\n",
        "\n",
        "cursor.execute('''INSERT INTO STUDENT VALUES ('John', '8', 'A')''')\n",
        "cursor.execute('''INSERT INTO STUDENT VALUES ('Adam', '8', 'B')''')\n",
        "cursor.execute('''INSERT INTO STUDENT VALUES ('Ann', '10', 'A')''')\n",
        "\n",
        "\n",
        "cursor.execute(\"SELECT * FROM STUDENT WHERE NAME Like'A%'\")\n",
        "\n",
        "print(cursor.fetchall())\n",
        "  \n",
        "conn.commit()\n",
        "conn.close()\n",
        "\n",
        "\n",
        "conn.close()\n"
      ],
      "metadata": {
        "colab": {
          "base_uri": "https://localhost:8080/"
        },
        "id": "qsFm2eAz8JBy",
        "outputId": "a3bcf709-a5db-40ba-8c5d-11f22e532ab0"
      },
      "execution_count": 16,
      "outputs": [
        {
          "output_type": "stream",
          "name": "stdout",
          "text": [
            "[('Adam', '8', 'B'), ('Ann', '10', 'A')]\n"
          ]
        }
      ]
    },
    {
      "cell_type": "code",
      "source": [
        "import sqlite3\n",
        " \n",
        "conn = sqlite3.connect('NewDB6.db')\n",
        "\n",
        " \n",
        "cursor = conn.cursor()\n",
        "\n",
        " \n",
        "table =\"\"\"CREATE TABLE STUDENT(NAME VARCHAR(255), CLASS VARCHAR(255), SECTION VARCHAR(255));\"\"\"\n",
        "cursor.execute(table)\n",
        "\n",
        "\n",
        "cursor.execute('''INSERT INTO STUDENT VALUES ('John', '8', 'A')''')\n",
        "cursor.execute('''INSERT INTO STUDENT VALUES ('Adam', '8', 'B')''')\n",
        "cursor.execute('''INSERT INTO STUDENT VALUES ('Ann', '10', 'A')''')\n",
        "\n",
        "\n",
        "cursor.execute(\"SELECT * FROM STUDENT ORDER BY NAME\")\n",
        "\n",
        "print(cursor.fetchall())\n",
        "  \n",
        "conn.commit()\n",
        "conn.close()\n",
        "\n",
        "\n",
        "conn.close()"
      ],
      "metadata": {
        "colab": {
          "base_uri": "https://localhost:8080/"
        },
        "id": "DZTJXyvH8ywk",
        "outputId": "ae15a338-1a81-4b71-9564-19c5498461e1"
      },
      "execution_count": 18,
      "outputs": [
        {
          "output_type": "stream",
          "name": "stdout",
          "text": [
            "[('Adam', '8', 'B'), ('Ann', '10', 'A'), ('John', '8', 'A')]\n"
          ]
        }
      ]
    },
    {
      "cell_type": "code",
      "source": [
        "import sqlite3\n",
        " \n",
        "conn = sqlite3.connect('NewDB7.db')\n",
        "\n",
        " \n",
        "cursor = conn.cursor()\n",
        "\n",
        " \n",
        "table =\"\"\"CREATE TABLE STUDENT(NAME VARCHAR(255), CLASS VARCHAR(255), SECTION VARCHAR(255));\"\"\"\n",
        "cursor.execute(table)\n",
        "\n",
        "\n",
        "cursor.execute('''INSERT INTO STUDENT VALUES ('John', '8', 'A')''')\n",
        "cursor.execute('''INSERT INTO STUDENT VALUES ('Adam', '8', 'B')''')\n",
        "cursor.execute('''INSERT INTO STUDENT VALUES ('Ann', '10', 'A')''')\n",
        "\n",
        "\n",
        "cursor.execute(\"SELECT * FROM STUDENT ORDER BY NAME DESC\")\n",
        "\n",
        "print(cursor.fetchall())\n",
        "  \n",
        "conn.commit()\n",
        "conn.close()\n",
        "\n",
        "\n",
        "conn.close()"
      ],
      "metadata": {
        "colab": {
          "base_uri": "https://localhost:8080/"
        },
        "id": "uvsAPBlz89m2",
        "outputId": "c33b98a5-24ba-4ecd-a20f-0914db5964eb"
      },
      "execution_count": 20,
      "outputs": [
        {
          "output_type": "stream",
          "name": "stdout",
          "text": [
            "[('John', '8', 'A'), ('Ann', '10', 'A'), ('Adam', '8', 'B')]\n"
          ]
        }
      ]
    },
    {
      "cell_type": "code",
      "source": [
        "import sqlite3\n",
        " \n",
        "conn = sqlite3.connect('NewDB8.db')\n",
        "\n",
        " \n",
        "cursor = conn.cursor()\n",
        "\n",
        " \n",
        "table =\"\"\"CREATE TABLE STUDENT(NAME VARCHAR(255), CLASS VARCHAR(255), SECTION VARCHAR(255));\"\"\"\n",
        "cursor.execute(table)\n",
        "\n",
        "\n",
        "cursor.execute('''INSERT INTO STUDENT VALUES ('John', '8', 'A')''')\n",
        "cursor.execute('''INSERT INTO STUDENT VALUES ('Adam', '8', 'B')''')\n",
        "cursor.execute('''INSERT INTO STUDENT VALUES ('Ann', '10', 'A')''')\n",
        "\n",
        "\n",
        "cursor.execute(\"SELECT NAME, CLASS FROM STUDENT ORDER BY NAME DESC\")\n",
        "\n",
        "print(cursor.fetchall())\n",
        "  \n",
        "conn.commit()\n",
        "conn.close()\n",
        "\n",
        "\n",
        "conn.close()"
      ],
      "metadata": {
        "colab": {
          "base_uri": "https://localhost:8080/"
        },
        "id": "C9y_iFeH9HeW",
        "outputId": "8a2d9b95-d6a9-44fa-8007-f4c24411a8b6"
      },
      "execution_count": 22,
      "outputs": [
        {
          "output_type": "stream",
          "name": "stdout",
          "text": [
            "[('John', '8'), ('Ann', '10'), ('Adam', '8')]\n"
          ]
        }
      ]
    },
    {
      "cell_type": "code",
      "source": [
        "import pandas as pd\n",
        "import sqlite3\n",
        " \n",
        "conn = sqlite3.connect('NewDB9.db')\n",
        "\n",
        "\n",
        "\n",
        "\n",
        "cursor = conn.cursor()\n",
        "\n",
        " \n",
        "table =\"\"\"CREATE TABLE STUDENT(NAME VARCHAR(255), CLASS VARCHAR(255), SECTION VARCHAR(255));\"\"\"\n",
        "cursor.execute(table)\n",
        "\n",
        "\n",
        "cursor.execute('''INSERT INTO STUDENT VALUES ('John', '8', 'A')''')\n",
        "cursor.execute('''INSERT INTO STUDENT VALUES ('Adam', '8', 'B')''')\n",
        "cursor.execute('''INSERT INTO STUDENT VALUES ('Ann', '10', 'A')''')\n",
        "\n",
        "\n",
        "\n",
        "\n",
        "print(cursor.fetchall())\n",
        "  \n",
        "conn.commit()\n",
        "\n",
        "\n",
        "df = pd.read_sql(\"SELECT * FROM STUDENT\", con=conn)\n",
        "print(df)\n",
        "df.to_csv(\"Index.csv\")\n",
        "\n",
        "conn.close()"
      ],
      "metadata": {
        "colab": {
          "base_uri": "https://localhost:8080/"
        },
        "id": "bv4UAgBY9UT8",
        "outputId": "8ba5b07f-37ba-4997-8a17-8e7ed5bd1553"
      },
      "execution_count": 24,
      "outputs": [
        {
          "output_type": "stream",
          "name": "stdout",
          "text": [
            "[]\n",
            "   NAME CLASS SECTION\n",
            "0  John     8       A\n",
            "1  Adam     8       B\n",
            "2   Ann    10       A\n"
          ]
        }
      ]
    }
  ]
}