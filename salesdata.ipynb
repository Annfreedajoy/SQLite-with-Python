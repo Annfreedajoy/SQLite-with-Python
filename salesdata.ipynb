{
  "nbformat": 4,
  "nbformat_minor": 0,
  "metadata": {
    "colab": {
      "name": "salesdata.ipynb",
      "provenance": []
    },
    "kernelspec": {
      "name": "python3",
      "display_name": "Python 3"
    },
    "language_info": {
      "name": "python"
    }
  },
  "cells": [
    {
      "cell_type": "code",
      "execution_count": 3,
      "metadata": {
        "colab": {
          "base_uri": "https://localhost:8080/"
        },
        "id": "E7Je7iMMCjmz",
        "outputId": "d1711fda-3c1d-43f0-bedc-fb4bbbe1726e"
      },
      "outputs": [
        {
          "output_type": "stream",
          "name": "stdout",
          "text": [
            "[('10', '692-92-5582', 'B', 'Mandalay', 'Member', 'Female', 'Food and beverages', '3', '144', '7445', '13:27', 'Credit card', '164.52', '4.761904762', '8.226', '5.9', '0')]\n"
          ]
        }
      ],
      "source": [
        "import sqlite3\n",
        " \n",
        "conn = sqlite3.connect('SalesDBNew.db')\n",
        "\n",
        " \n",
        "cursor = conn.cursor()\n",
        "cursor.execute(\"SELECT * FROM Supermarket_sales ORDER BY Unitprice LIMIT 1;\")\n",
        "\n",
        "\n",
        "print(cursor.fetchall())\n",
        "  \n",
        "conn.commit()\n",
        "conn.close()\n"
      ]
    },
    {
      "cell_type": "code",
      "source": [
        "import sqlite3\n",
        " \n",
        "conn = sqlite3.connect('SalesDBNew.db')\n",
        "\n",
        " \n",
        "cursor = conn.cursor()\n",
        "cursor.execute(\"SELECT * FROM Supermarket_sales ORDER BY Quantity LIMIT 1;\")\n",
        "\n",
        "\n",
        "print(cursor.fetchall())\n",
        "  \n",
        "conn.commit()\n",
        "conn.close()\n"
      ],
      "metadata": {
        "colab": {
          "base_uri": "https://localhost:8080/"
        },
        "id": "_H4F29SwGt_h",
        "outputId": "15e695d4-90cb-4f11-cc26-19479b05d3b1"
      },
      "execution_count": 4,
      "outputs": [
        {
          "output_type": "stream",
          "name": "stdout",
          "text": [
            "[('27', '649-29-6775', 'B', 'Mandalay', 'Normal', 'Male', 'Fashion accessories', '1', '627', '2314', '15:31', 'Cash', '33.52', '4.761904762', '1.676', '6.7', '52')]\n"
          ]
        }
      ]
    },
    {
      "cell_type": "code",
      "source": [
        "import sqlite3\n",
        " \n",
        "conn = sqlite3.connect('SalesDBNew.db')\n",
        "\n",
        " \n",
        "cursor = conn.cursor()\n",
        "cursor.execute(\"SELECT * FROM Supermarket_sales ORDER BY Quantity DESC LIMIT 1;\")\n",
        "\n",
        "\n",
        "print(cursor.fetchall())\n",
        "  \n",
        "conn.commit()\n",
        "conn.close()"
      ],
      "metadata": {
        "colab": {
          "base_uri": "https://localhost:8080/"
        },
        "id": "hPQwqZowHp0d",
        "outputId": "6f0b914d-fa48-45ae-f63b-887d661949aa"
      },
      "execution_count": 5,
      "outputs": [
        {
          "output_type": "stream",
          "name": "stdout",
          "text": [
            "[('30', '848-62-7243', 'A', 'Yangon', 'Normal', 'Male', 'Health and beauty', '9', '703', '8890', '15:36', 'Cash', '224.01', '4.761904762', '11.2005', '7.4', '1')]\n"
          ]
        }
      ]
    },
    {
      "cell_type": "code",
      "source": [
        "import sqlite3\n",
        " \n",
        "conn = sqlite3.connect('SalesDBNew.db')\n",
        "\n",
        " \n",
        "cursor = conn.cursor()\n",
        "cursor.execute(\"SELECT * FROM Supermarket_sales WHERE Productline = 'Health and Beauty' ORDER BY Quantity LIMIT 1;\")\n",
        "\n",
        "\n",
        "print(cursor.fetchall())\n",
        "  \n",
        "conn.commit()\n",
        "conn.close()"
      ],
      "metadata": {
        "colab": {
          "base_uri": "https://localhost:8080/"
        },
        "id": "r2Nl1pFJJJWu",
        "outputId": "c6a2b258-9f57-491d-f95d-9e6ce68e3917"
      },
      "execution_count": 6,
      "outputs": [
        {
          "output_type": "stream",
          "name": "stdout",
          "text": [
            "[]\n"
          ]
        }
      ]
    },
    {
      "cell_type": "code",
      "source": [
        "import sqlite3\n",
        " \n",
        "conn = sqlite3.connect('SalesDBNew.db')\n",
        "\n",
        " \n",
        "cursor = conn.cursor()\n",
        "cursor.execute(\"SELECT * FROM Supermarket_sales WHERE Productline = 'Health and Beauty' ORDER BY Quantity DESC LIMIT 1;\")\n",
        "\n",
        "\n",
        "print(cursor.fetchall())\n",
        "  \n",
        "conn.commit()\n",
        "conn.close()"
      ],
      "metadata": {
        "colab": {
          "base_uri": "https://localhost:8080/"
        },
        "id": "c4KyvUGMJiZh",
        "outputId": "7ccef3a9-9d70-423c-8a23-067a35363d75"
      },
      "execution_count": 7,
      "outputs": [
        {
          "output_type": "stream",
          "name": "stdout",
          "text": [
            "[]\n"
          ]
        }
      ]
    }
  ]
}